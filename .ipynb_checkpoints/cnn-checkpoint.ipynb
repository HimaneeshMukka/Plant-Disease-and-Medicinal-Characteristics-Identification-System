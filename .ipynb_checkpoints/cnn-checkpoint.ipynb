{
 "cells": [
  {
   "cell_type": "code",
   "execution_count": null,
   "metadata": {},
   "outputs": [
    {
     "name": "stderr",
     "output_type": "stream",
     "text": [
      "\r",
      "  0%|                                                                                           | 0/80 [00:00<?, ?it/s]"
     ]
    },
    {
     "name": "stdout",
     "output_type": "stream",
     "text": [
      "b\n",
      "Bacterial\n",
      "##############\n",
      "[0, 1, 0, 0]\n"
     ]
    },
    {
     "name": "stderr",
     "output_type": "stream",
     "text": [
      "\r",
      "  1%|█                                                                                  | 1/80 [00:00<00:18,  4.27it/s]"
     ]
    },
    {
     "name": "stdout",
     "output_type": "stream",
     "text": [
      "b\n",
      "Bacterial\n",
      "##############\n",
      "[0, 1, 0, 0]\n",
      "b\n",
      "Bacterial\n",
      "##############\n",
      "[0, 1, 0, 0]\n",
      "b\n",
      "Bacterial\n",
      "##############\n",
      "[0, 1, 0, 0]\n",
      "b\n",
      "Bacterial\n",
      "##############\n",
      "[0, 1, 0, 0]\n"
     ]
    },
    {
     "name": "stderr",
     "output_type": "stream",
     "text": [
      "\r",
      "  6%|█████▏                                                                             | 5/80 [00:00<00:13,  5.76it/s]"
     ]
    },
    {
     "name": "stdout",
     "output_type": "stream",
     "text": [
      "b\n",
      "Bacterial\n",
      "##############\n",
      "[0, 1, 0, 0]\n",
      "b\n",
      "Bacterial\n",
      "##############\n",
      "[0, 1, 0, 0]\n",
      "b\n",
      "Bacterial\n",
      "##############\n",
      "[0, 1, 0, 0]\n",
      "b\n",
      "Bacterial\n",
      "##############\n",
      "[0, 1, 0, 0]\n"
     ]
    },
    {
     "name": "stderr",
     "output_type": "stream",
     "text": [
      "\r",
      " 11%|█████████▎                                                                         | 9/80 [00:00<00:09,  7.71it/s]"
     ]
    },
    {
     "name": "stdout",
     "output_type": "stream",
     "text": [
      "b\n",
      "Bacterial\n",
      "##############\n",
      "[0, 1, 0, 0]\n",
      "b\n",
      "Bacterial\n",
      "##############\n",
      "[0, 1, 0, 0]\n",
      "b\n",
      "Bacterial\n",
      "##############\n",
      "[0, 1, 0, 0]\n",
      "b\n",
      "Bacterial\n",
      "##############\n",
      "[0, 1, 0, 0]\n",
      "b\n",
      "Bacterial\n",
      "##############\n",
      "[0, 1, 0, 0]\n",
      "b\n",
      "Bacterial\n",
      "##############\n",
      "[0, 1, 0, 0]\n",
      "b\n",
      "Bacterial\n",
      "##############\n",
      "[0, 1, 0, 0]\n"
     ]
    },
    {
     "name": "stderr",
     "output_type": "stream",
     "text": [
      "\r",
      " 20%|████████████████▍                                                                 | 16/80 [00:00<00:06, 10.48it/s]"
     ]
    },
    {
     "name": "stdout",
     "output_type": "stream",
     "text": [
      "b\n",
      "Bacterial\n",
      "##############\n",
      "[0, 1, 0, 0]\n",
      "b\n",
      "Bacterial\n",
      "##############\n",
      "[0, 1, 0, 0]\n",
      "b\n",
      "Bacterial\n",
      "##############\n",
      "[0, 1, 0, 0]\n",
      "b\n",
      "Bacterial\n",
      "##############\n",
      "[0, 1, 0, 0]\n"
     ]
    },
    {
     "name": "stderr",
     "output_type": "stream",
     "text": [
      "\r",
      " 25%|████████████████████▌                                                             | 20/80 [00:00<00:04, 12.55it/s]"
     ]
    },
    {
     "name": "stdout",
     "output_type": "stream",
     "text": [
      "b\n",
      "Bacterial\n",
      "##############\n",
      "[0, 1, 0, 0]\n",
      "b\n",
      "Bacterial\n",
      "##############\n",
      "[0, 1, 0, 0]\n",
      "b\n",
      "Bacterial\n",
      "##############\n",
      "[0, 1, 0, 0]\n",
      "b\n",
      "Bacterial\n",
      "##############\n",
      "[0, 1, 0, 0]\n",
      "b\n",
      "Bacterial\n",
      "##############\n",
      "[0, 1, 0, 0]\n"
     ]
    },
    {
     "name": "stderr",
     "output_type": "stream",
     "text": [
      "\r",
      " 31%|█████████████████████████▋                                                        | 25/80 [00:00<00:03, 15.80it/s]"
     ]
    },
    {
     "name": "stdout",
     "output_type": "stream",
     "text": [
      "b\n",
      "Bacterial\n",
      "##############\n",
      "[0, 1, 0, 0]\n",
      "b\n",
      "Bacterial\n",
      "##############\n",
      "[0, 1, 0, 0]\n",
      "b\n",
      "Bacterial\n",
      "##############\n",
      "[0, 1, 0, 0]\n",
      "b\n",
      "Bacterial\n",
      "##############\n",
      "[0, 1, 0, 0]\n",
      "b\n",
      "Bacterial\n",
      "##############\n",
      "[0, 1, 0, 0]\n",
      "b\n",
      "Bacterial\n",
      "##############\n",
      "[0, 1, 0, 0]\n"
     ]
    },
    {
     "name": "stderr",
     "output_type": "stream",
     "text": [
      "\r",
      " 39%|███████████████████████████████▊                                                  | 31/80 [00:00<00:02, 20.09it/s]"
     ]
    },
    {
     "name": "stdout",
     "output_type": "stream",
     "text": [
      "b\n",
      "Bacterial\n",
      "##############\n",
      "[0, 1, 0, 0]\n",
      "b\n",
      "Bacterial\n",
      "##############\n",
      "[0, 1, 0, 0]\n",
      "b\n",
      "Bacterial\n",
      "##############\n",
      "[0, 1, 0, 0]\n",
      "b\n",
      "Bacterial\n",
      "##############\n",
      "[0, 1, 0, 0]\n"
     ]
    },
    {
     "name": "stderr",
     "output_type": "stream",
     "text": [
      "\r",
      " 44%|███████████████████████████████████▉                                              | 35/80 [00:01<00:02, 17.16it/s]"
     ]
    },
    {
     "name": "stdout",
     "output_type": "stream",
     "text": [
      "b\n",
      "Bacterial\n",
      "##############\n",
      "[0, 1, 0, 0]\n",
      "b\n",
      "Bacterial\n",
      "##############\n",
      "[0, 1, 0, 0]\n",
      "b\n",
      "Bacterial\n",
      "##############\n",
      "[0, 1, 0, 0]\n",
      "b\n",
      "Bacterial\n",
      "##############\n",
      "[0, 1, 0, 0]\n"
     ]
    },
    {
     "name": "stderr",
     "output_type": "stream",
     "text": [
      "\r",
      " 49%|███████████████████████████████████████▉                                          | 39/80 [00:01<00:02, 19.93it/s]"
     ]
    },
    {
     "name": "stdout",
     "output_type": "stream",
     "text": [
      "b\n",
      "Bacterial\n",
      "##############\n",
      "[0, 1, 0, 0]\n",
      "h\n",
      "healthy\n",
      "##############\n",
      "[1, 0, 0, 0]\n",
      "h\n",
      "healthy\n",
      "##############\n",
      "[1, 0, 0, 0]\n",
      "h\n",
      "healthy\n",
      "##############\n",
      "[1, 0, 0, 0]\n",
      "h\n",
      "healthy\n",
      "##############\n",
      "[1, 0, 0, 0]\n"
     ]
    },
    {
     "name": "stderr",
     "output_type": "stream",
     "text": [
      "\r",
      " 55%|█████████████████████████████████████████████                                     | 44/80 [00:01<00:01, 23.99it/s]"
     ]
    },
    {
     "name": "stdout",
     "output_type": "stream",
     "text": [
      "h\n",
      "healthy\n",
      "##############\n",
      "[1, 0, 0, 0]\n",
      "h\n",
      "healthy\n",
      "##############\n",
      "[1, 0, 0, 0]\n",
      "h\n",
      "healthy\n",
      "##############\n",
      "[1, 0, 0, 0]\n",
      "h\n",
      "healthy\n",
      "##############\n",
      "[1, 0, 0, 0]\n",
      "h\n",
      "healthy\n",
      "##############\n",
      "[1, 0, 0, 0]\n"
     ]
    },
    {
     "name": "stderr",
     "output_type": "stream",
     "text": [
      "\r",
      " 61%|██████████████████████████████████████████████████▏                               | 49/80 [00:01<00:01, 27.98it/s]"
     ]
    },
    {
     "name": "stdout",
     "output_type": "stream",
     "text": [
      "h\n",
      "healthy\n",
      "##############\n",
      "[1, 0, 0, 0]\n",
      "h\n",
      "healthy\n",
      "##############\n",
      "[1, 0, 0, 0]\n",
      "h\n",
      "healthy\n",
      "##############\n",
      "[1, 0, 0, 0]\n",
      "h\n",
      "healthy\n",
      "##############\n",
      "[1, 0, 0, 0]\n"
     ]
    },
    {
     "name": "stderr",
     "output_type": "stream",
     "text": [
      "\r",
      " 66%|██████████████████████████████████████████████████████▎                           | 53/80 [00:01<00:01, 20.64it/s]"
     ]
    },
    {
     "name": "stdout",
     "output_type": "stream",
     "text": [
      "h\n",
      "healthy\n",
      "##############\n",
      "[1, 0, 0, 0]\n",
      "h\n",
      "healthy\n",
      "##############\n",
      "[1, 0, 0, 0]\n",
      "h\n",
      "healthy\n",
      "##############\n",
      "[1, 0, 0, 0]\n",
      "h\n",
      "healthy\n",
      "##############\n",
      "[1, 0, 0, 0]\n",
      "h\n",
      "healthy\n",
      "##############\n",
      "[1, 0, 0, 0]\n"
     ]
    },
    {
     "name": "stderr",
     "output_type": "stream",
     "text": [
      "\r",
      " 72%|███████████████████████████████████████████████████████████▍                      | 58/80 [00:02<00:00, 24.70it/s]"
     ]
    },
    {
     "name": "stdout",
     "output_type": "stream",
     "text": [
      "h\n",
      "healthy\n",
      "##############\n",
      "[1, 0, 0, 0]\n",
      "h\n",
      "healthy\n",
      "##############\n",
      "[1, 0, 0, 0]\n",
      "h\n",
      "healthy\n",
      "##############\n",
      "[1, 0, 0, 0]\n",
      "h\n",
      "healthy\n",
      "##############\n",
      "[1, 0, 0, 0]\n",
      "h\n",
      "healthy\n",
      "##############\n",
      "[1, 0, 0, 0]\n",
      "h\n",
      "healthy\n",
      "##############\n",
      "[1, 0, 0, 0]\n"
     ]
    },
    {
     "name": "stderr",
     "output_type": "stream",
     "text": [
      "\r",
      " 80%|█████████████████████████████████████████████████████████████████▌                | 64/80 [00:02<00:00, 29.58it/s]"
     ]
    },
    {
     "name": "stdout",
     "output_type": "stream",
     "text": [
      "h\n",
      "healthy\n",
      "##############\n",
      "[1, 0, 0, 0]\n",
      "h\n",
      "healthy\n",
      "##############\n",
      "[1, 0, 0, 0]\n",
      "h\n",
      "healthy\n",
      "##############\n",
      "[1, 0, 0, 0]\n",
      "h\n",
      "healthy\n",
      "##############\n",
      "[1, 0, 0, 0]\n",
      "h\n",
      "healthy\n",
      "##############\n",
      "[1, 0, 0, 0]\n",
      "h\n",
      "healthy\n",
      "##############\n",
      "[1, 0, 0, 0]\n"
     ]
    },
    {
     "name": "stderr",
     "output_type": "stream",
     "text": [
      "\r",
      " 88%|███████████████████████████████████████████████████████████████████████▊          | 70/80 [00:02<00:00, 34.33it/s]"
     ]
    },
    {
     "name": "stdout",
     "output_type": "stream",
     "text": [
      "h\n",
      "healthy\n",
      "##############\n",
      "[1, 0, 0, 0]\n",
      "h\n",
      "healthy\n",
      "##############\n",
      "[1, 0, 0, 0]\n",
      "h\n",
      "healthy\n",
      "##############\n",
      "[1, 0, 0, 0]\n",
      "h\n",
      "healthy\n",
      "##############\n",
      "[1, 0, 0, 0]\n",
      "h\n",
      "healthy\n",
      "##############\n",
      "[1, 0, 0, 0]\n"
     ]
    },
    {
     "name": "stderr",
     "output_type": "stream",
     "text": [
      "\r",
      " 94%|████████████████████████████████████████████████████████████████████████████▉     | 75/80 [00:02<00:00, 37.10it/s]"
     ]
    },
    {
     "name": "stdout",
     "output_type": "stream",
     "text": [
      "h\n",
      "healthy\n",
      "##############\n",
      "[1, 0, 0, 0]\n",
      "h\n",
      "healthy\n",
      "##############\n",
      "[1, 0, 0, 0]\n",
      "h\n",
      "healthy\n",
      "##############\n",
      "[1, 0, 0, 0]\n",
      "h\n",
      "healthy\n",
      "##############\n",
      "[1, 0, 0, 0]\n",
      "h\n",
      "healthy\n",
      "##############\n",
      "[1, 0, 0, 0]\n"
     ]
    },
    {
     "name": "stderr",
     "output_type": "stream",
     "text": [
      "100%|██████████████████████████████████████████████████████████████████████████████████| 80/80 [00:02<00:00, 32.20it/s]\n"
     ]
    },
    {
     "name": "stdout",
     "output_type": "stream",
     "text": [
      "curses is not supported on this machine (please install/reinstall curses for an optimal experience)\n",
      "WARNING:tensorflow:From C:\\Users\\acer\\Anaconda3\\lib\\site-packages\\tflearn\\helpers\\summarizer.py:9: The name tf.summary.merge is deprecated. Please use tf.compat.v1.summary.merge instead.\n",
      "\n",
      "WARNING:tensorflow:From C:\\Users\\acer\\Anaconda3\\lib\\site-packages\\tflearn\\helpers\\trainer.py:25: The name tf.summary.FileWriter is deprecated. Please use tf.compat.v1.summary.FileWriter instead.\n",
      "\n",
      "WARNING:tensorflow:From C:\\Users\\acer\\Anaconda3\\lib\\site-packages\\tflearn\\collections.py:13: The name tf.GraphKeys is deprecated. Please use tf.compat.v1.GraphKeys instead.\n",
      "\n",
      "WARNING:tensorflow:From C:\\Users\\acer\\Anaconda3\\lib\\site-packages\\tflearn\\config.py:123: The name tf.get_collection is deprecated. Please use tf.compat.v1.get_collection instead.\n",
      "\n",
      "WARNING:tensorflow:From C:\\Users\\acer\\Anaconda3\\lib\\site-packages\\tflearn\\config.py:129: The name tf.add_to_collection is deprecated. Please use tf.compat.v1.add_to_collection instead.\n",
      "\n",
      "WARNING:tensorflow:From C:\\Users\\acer\\Anaconda3\\lib\\site-packages\\tflearn\\config.py:131: The name tf.assign is deprecated. Please use tf.compat.v1.assign instead.\n",
      "\n",
      "WARNING:tensorflow:From C:\\Users\\acer\\Anaconda3\\lib\\site-packages\\tflearn\\layers\\core.py:81: The name tf.placeholder is deprecated. Please use tf.compat.v1.placeholder instead.\n",
      "\n",
      "WARNING:tensorflow:From C:\\Users\\acer\\Anaconda3\\lib\\site-packages\\tflearn\\initializations.py:119: calling UniformUnitScaling.__init__ (from tensorflow.python.ops.init_ops) with dtype is deprecated and will be removed in a future version.\n",
      "Instructions for updating:\n",
      "Call initializer instance with the dtype argument instead of passing it to the constructor\n",
      "WARNING:tensorflow:From C:\\Users\\acer\\Anaconda3\\lib\\site-packages\\tensorflow\\python\\util\\deprecation.py:507: UniformUnitScaling.__init__ (from tensorflow.python.ops.init_ops) is deprecated and will be removed in a future version.\n",
      "Instructions for updating:\n",
      "Use tf.initializers.variance_scaling instead with distribution=uniform to get equivalent behavior.\n",
      "WARNING:tensorflow:From C:\\Users\\acer\\Anaconda3\\lib\\site-packages\\tflearn\\layers\\conv.py:552: The name tf.nn.max_pool is deprecated. Please use tf.nn.max_pool2d instead.\n",
      "\n",
      "WARNING:tensorflow:From C:\\Users\\acer\\Anaconda3\\lib\\site-packages\\tflearn\\initializations.py:174: calling TruncatedNormal.__init__ (from tensorflow.python.ops.init_ops) with dtype is deprecated and will be removed in a future version.\n",
      "Instructions for updating:\n",
      "Call initializer instance with the dtype argument instead of passing it to the constructor\n",
      "WARNING:tensorflow:From C:\\Users\\acer\\Anaconda3\\lib\\site-packages\\tflearn\\layers\\core.py:239: calling dropout (from tensorflow.python.ops.nn_ops) with keep_prob is deprecated and will be removed in a future version.\n",
      "Instructions for updating:\n",
      "Please use `rate` instead of `keep_prob`. Rate should be set to `rate = 1 - keep_prob`.\n",
      "WARNING:tensorflow:From C:\\Users\\acer\\Anaconda3\\lib\\site-packages\\tflearn\\optimizers.py:238: The name tf.train.AdamOptimizer is deprecated. Please use tf.compat.v1.train.AdamOptimizer instead.\n",
      "\n",
      "WARNING:tensorflow:From C:\\Users\\acer\\Anaconda3\\lib\\site-packages\\tflearn\\objectives.py:66: calling reduce_sum_v1 (from tensorflow.python.ops.math_ops) with keep_dims is deprecated and will be removed in a future version.\n",
      "Instructions for updating:\n",
      "keep_dims is deprecated, use keepdims instead\n",
      "WARNING:tensorflow:From C:\\Users\\acer\\Anaconda3\\lib\\site-packages\\tflearn\\summaries.py:46: The name tf.summary.scalar is deprecated. Please use tf.compat.v1.summary.scalar instead.\n",
      "\n"
     ]
    }
   ],
   "source": [
    "import cv2                 \n",
    "import numpy as np         \n",
    "import os                  \n",
    "from random import shuffle \n",
    "from tqdm import tqdm      \n",
    "##TRAIN_DIR = 'E:/P_2020/PlantDisease-master/leaf-disease/Datasets/D'\n",
    "##TEST_DIR = 'E:/P_2020/PlantDisease-master/leaf-disease/Datasets/D/test'\n",
    "\n",
    "TRAIN_DIR = 'C:/Users/acer/Desktop/PlantDisease-master(working)/test/test'\n",
    "TEST_DIR = 'C:/Users/acer/Desktop/PlantDisease-master(working)/train/train'\n",
    "\n",
    "IMG_SIZE = 50\n",
    "LR = 1e-3\n",
    "MODEL_NAME = 'healthyvsunhealthy-{}-{}.model'.format(LR, '2conv-basic')\n",
    "\n",
    "def label_img(img):\n",
    "    word_label = img[0]\n",
    "    print(word_label)\n",
    "  \n",
    "    if word_label == 'h':\n",
    "        print('healthy')\n",
    "        return [1,0,0,0]\n",
    "    \n",
    "    elif word_label == 'b':\n",
    "        print('Bacterial')\n",
    "        return [0,1,0,0]\n",
    "    elif word_label == 'v':\n",
    "        print('virus')\n",
    "        return [0,0,1,0]\n",
    "##    elif word_label == 'l':\n",
    "##        print('lllll')\n",
    "##        return [0,0,0,1]\n",
    "\n",
    "    \n",
    "\n",
    "def create_train_data():\n",
    "    training_data = []\n",
    "    for img in tqdm(os.listdir(TRAIN_DIR)):\n",
    "        label = label_img(img)\n",
    "        print('##############')\n",
    "        print(label)\n",
    "        path = os.path.join(TRAIN_DIR,img)\n",
    "        img = cv2.imread(path,cv2.IMREAD_COLOR)\n",
    "        img = cv2.resize(img, (IMG_SIZE,IMG_SIZE))\n",
    "        training_data.append([np.array(img),np.array(label)])\n",
    "    shuffle(training_data)\n",
    "    np.save('train_data.npy', training_data)\n",
    "    return training_data\n",
    "\n",
    "def process_test_data():\n",
    "    testing_data = []\n",
    "    for img in tqdm(os.listdir(TEST_DIR)):\n",
    "        path = os.path.join(TEST_DIR,img)\n",
    "        img_num = img.split('.')[0]\n",
    "        img = cv2.imread(path,cv2.IMREAD_COLOR)\n",
    "        img = cv2.resize(img, (IMG_SIZE,IMG_SIZE))\n",
    "        testing_data.append([np.array(img), img_num])\n",
    "        \n",
    "    shuffle(testing_data)\n",
    "    np.save('test_data.npy', testing_data)\n",
    "    return testing_data\n",
    "\n",
    "train_data = create_train_data()\n",
    "# If you have already created the dataset:\n",
    "#train_data = np.load('train_data.npy')\n",
    "\n",
    "\n",
    "import tflearn\n",
    "from tflearn.layers.conv import conv_2d, max_pool_2d\n",
    "from tflearn.layers.core import input_data, dropout, fully_connected\n",
    "from tflearn.layers.estimator import regression\n",
    "import tensorflow as tf\n",
    "tf.reset_default_graph()\n",
    "\n",
    "convnet = input_data(shape=[None, IMG_SIZE, IMG_SIZE, 3], name='input')\n",
    "\n",
    "convnet = conv_2d(convnet, 32, 3, activation='relu')\n",
    "convnet = max_pool_2d(convnet, 3)\n",
    "\n",
    "convnet = conv_2d(convnet, 64, 3, activation='relu')\n",
    "convnet = max_pool_2d(convnet, 3)\n",
    "\n",
    "convnet = conv_2d(convnet, 128, 3, activation='relu')\n",
    "convnet = max_pool_2d(convnet, 3)\n",
    "\n",
    "convnet = conv_2d(convnet, 32, 3, activation='relu')\n",
    "convnet = max_pool_2d(convnet, 3)\n",
    "\n",
    "convnet = conv_2d(convnet, 64, 3, activation='relu')\n",
    "convnet = max_pool_2d(convnet, 3)\n",
    "\n",
    "convnet = fully_connected(convnet, 1024, activation='relu')\n",
    "convnet = dropout(convnet, 0.8)\n",
    "\n",
    "convnet = fully_connected(convnet, 4, activation='softmax')\n",
    "convnet = regression(convnet, optimizer='adam', learning_rate=LR, loss='categorical_crossentropy', name='targets')\n",
    "\n",
    "model = tflearn.DNN(convnet, tensorboard_dir='log')\n",
    "\n",
    "if os.path.exists('{}.meta'.format(MODEL_NAME)):\n",
    "    model.load(MODEL_NAME)\n",
    "    print('model loaded!')\n",
    "\n",
    "train = train_data[:-500]\n",
    "test = train_data[-500:]\n",
    "\n",
    "X = np.array([i[0] for i in train]).reshape(-1,IMG_SIZE,IMG_SIZE,3)\n",
    "Y = [i[1] for i in train]\n",
    "\n",
    "test_x = np.array([i[0] for i in test]).reshape(-1,IMG_SIZE,IMG_SIZE,3)\n",
    "test_y = [i[1] for i in test]\n",
    "\n",
    "model.fit({'input': X}, {'targets': Y}, n_epoch=8, validation_set=({'input': test_x}, {'targets': test_y}),\n",
    "    snapshot_step=40, show_metric=True, run_id=MODEL_NAME)\n",
    "\n",
    "model.save(MODEL_NAME)\n",
    "\n",
    "\n",
    "\n",
    "\n",
    "\n",
    "\n",
    "\n",
    "\n",
    "\n",
    "\n",
    "\n",
    "        \n"
   ]
  },
  {
   "cell_type": "code",
   "execution_count": null,
   "metadata": {},
   "outputs": [],
   "source": []
  }
 ],
 "metadata": {
  "kernelspec": {
   "display_name": "Python 3",
   "language": "python",
   "name": "python3"
  },
  "language_info": {
   "codemirror_mode": {
    "name": "ipython",
    "version": 3
   },
   "file_extension": ".py",
   "mimetype": "text/x-python",
   "name": "python",
   "nbconvert_exporter": "python",
   "pygments_lexer": "ipython3",
   "version": "3.7.4"
  }
 },
 "nbformat": 4,
 "nbformat_minor": 2
}
